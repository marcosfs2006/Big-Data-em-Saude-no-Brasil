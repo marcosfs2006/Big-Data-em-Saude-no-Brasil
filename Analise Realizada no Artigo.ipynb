{
 "cells": [
  {
   "cell_type": "markdown",
   "metadata": {},
   "source": [
    "![Big Data em Saúde no Brasil](BigDataCoursera2.png)\n",
    "### Exemplo de análise apresentado no artigo [Uso de _big data_ em Saúde no Brasil: perspectivas para um futuro próximo](http://www.scielo.br/pdf/ress/v24n2/2237-9622-ress-24-02-00325.pdf) de autoria de Alexandre Dias Porto Chiavegatto Filho\n",
    "**Marcos F Silva**   \n"
   ]
  },
  {
   "cell_type": "markdown",
   "metadata": {},
   "source": [
    "O exemplo utiliza o conjunto de dados **`mlexemplo.csv`**, contendo as seguintes variáveis:\n",
    "\n",
    "**Município** - nome do municipio    \n",
    "**prenatal** - proporção de nascimentos com 7 ou mais consultas pré-naltal  \n",
    "**CMI** - coeficiente de mortalidade infantil:  \n",
    "        1 - acima da média nacional  \n",
    "        0 - abaixo da média nacional      \n",
    "**analfabet** - taxa de analfabetismo    \n"
   ]
  },
  {
   "cell_type": "code",
   "execution_count": 1,
   "metadata": {
    "collapsed": false
   },
   "outputs": [],
   "source": [
    "# Definição do diretório de trabalho\n",
    "setwd('F:\\\\Big_Data_Saude-Coursera\\\\1.week_1')"
   ]
  },
  {
   "cell_type": "code",
   "execution_count": 2,
   "metadata": {
    "collapsed": true
   },
   "outputs": [],
   "source": [
    "# Importação dos dados\n",
    "ml <- read.csv('mlexemplo.csv', as.is=TRUE)"
   ]
  },
  {
   "cell_type": "code",
   "execution_count": 3,
   "metadata": {
    "collapsed": false
   },
   "outputs": [
    {
     "data": {
      "text/plain": [
       "                     Município prenatal CMI analfabet\n",
       "1 110001 Alta Floresta D'Oeste    48.30   1      12.0\n",
       "2             110002 Ariquemes    54.04   0       7.9\n",
       "3                110003 Cabixi    40.50   1      13.8\n",
       "4                110004 Cacoal    59.42   0       8.3\n",
       "5            110005 Cerejeiras    52.52   1      10.4\n",
       "6     110006 Colorado do Oeste    59.09   1      12.9"
      ]
     },
     "execution_count": 3,
     "metadata": {},
     "output_type": "execute_result"
    }
   ],
   "source": [
    "head(ml)"
   ]
  },
  {
   "cell_type": "code",
   "execution_count": 4,
   "metadata": {
    "collapsed": false
   },
   "outputs": [
    {
     "name": "stdout",
     "output_type": "stream",
     "text": [
      "'data.frame':\t5565 obs. of  4 variables:\n",
      " $ Município: chr  \"110001 Alta Floresta D'Oeste\" \"110002 Ariquemes\" \"110003 Cabixi\" \"110004 Cacoal\" ...\n",
      " $ prenatal : num  48.3 54 40.5 59.4 52.5 ...\n",
      " $ CMI      : int  1 0 1 0 1 1 1 1 1 1 ...\n",
      " $ analfabet: num  12 7.9 13.8 8.3 10.4 12.9 12 9.1 9.4 9 ...\n"
     ]
    }
   ],
   "source": [
    "str(ml)"
   ]
  },
  {
   "cell_type": "code",
   "execution_count": 10,
   "metadata": {
    "collapsed": false
   },
   "outputs": [],
   "source": [
    "# Importação dos pacotes necessários. Caso não estejam instalados será necessário instalá-los antes. \n",
    "library(rpart)      \n",
    "library(rpart.plot) "
   ]
  },
  {
   "cell_type": "code",
   "execution_count": 6,
   "metadata": {
    "collapsed": false
   },
   "outputs": [],
   "source": [
    "# Recodificação de variáveis\n",
    "ml <- transform(ml, CMI = ifelse(CMI == 0, 'cmi baixo', 'cmi alto')) "
   ]
  },
  {
   "cell_type": "code",
   "execution_count": 12,
   "metadata": {
    "collapsed": false
   },
   "outputs": [
    {
     "data": {
      "image/png": "[encoded data removed]"
     },
     "metadata": {},
     "output_type": "display_data"
    }
   ],
   "source": [
    "## Criação do modelo e plotagem do modelo\n",
    "model.rpart <- rpart(CMI ~ prenatal + analfabet, data=ml)\n",
    "rpart.plot(model.rpart, type=0, extra=2, varlen=10)"
   ]
  },
  {
   "cell_type": "code",
   "execution_count": 9,
   "metadata": {
    "collapsed": false
   },
   "outputs": [
    {
     "data": {
      "text/plain": [
       "               _                           \n",
       "platform       i386-w64-mingw32            \n",
       "arch           i386                        \n",
       "os             mingw32                     \n",
       "system         i386, mingw32               \n",
       "status                                     \n",
       "major          3                           \n",
       "minor          1.1                         \n",
       "year           2014                        \n",
       "month          07                          \n",
       "day            10                          \n",
       "svn rev        66115                       \n",
       "language       R                           \n",
       "version.string R version 3.1.1 (2014-07-10)\n",
       "nickname       Sock it to Me               "
      ]
     },
     "execution_count": 9,
     "metadata": {},
     "output_type": "execute_result"
    }
   ],
   "source": [
    "R.version"
   ]
  },
  {
   "cell_type": "code",
   "execution_count": null,
   "metadata": {
    "collapsed": false
   },
   "outputs": [],
   "source": []
  }
 ],
 "metadata": {
  "kernelspec": {
   "display_name": "R",
   "language": "",
   "name": "ir"
  },
  "language_info": {
   "codemirror_mode": "r",
   "file_extension": ".r",
   "mimetype": "text/x-r-source",
   "name": "R",
   "pygments_lexer": "r",
   "version": "3.1.1"
  }
 },
 "nbformat": 4,
 "nbformat_minor": 0
}
