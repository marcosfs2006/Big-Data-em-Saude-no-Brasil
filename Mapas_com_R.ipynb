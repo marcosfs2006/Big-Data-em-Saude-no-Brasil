{
 "cells": [
  {
   "cell_type": "markdown",
   "metadata": {},
   "source": [
    "![Big Data em Saúde no Brasil](BigDataCoursera2.png)\n",
    "### EXEMPLO DE ANÁLISE APRESENTADO NA SEMANA 2 - Mapas com R\n",
    "**Marcos F Silva** \n",
    "\n",
    "Exemplo adaptado de https://sociaisemetodos.wordpress.com/2013/09/15/mapas-no-r-parte-2-utilizando-shapes/"
   ]
  },
  {
   "cell_type": "code",
   "execution_count": 3,
   "metadata": {
    "collapsed": true
   },
   "outputs": [],
   "source": [
    "# Definir o diretório de trabalho\n",
    "setwd('F:\\\\Big_Data_Saude-Coursera\\\\2.week_2')"
   ]
  },
  {
   "cell_type": "code",
   "execution_count": 5,
   "metadata": {
    "collapsed": false
   },
   "outputs": [],
   "source": [
    "# Carrega os pacotes necessários\n",
    "library(XML)\n",
    "library(RCurl)\n",
    "library(maptools)\n",
    "library(RColorBrewer)"
   ]
  },
  {
   "cell_type": "code",
   "execution_count": 6,
   "metadata": {
    "collapsed": true
   },
   "outputs": [],
   "source": [
    "# Descompactar os dados\n",
    "unzip(\"estados_2010.zip\")"
   ]
  },
  {
   "cell_type": "code",
   "execution_count": 7,
   "metadata": {
    "collapsed": true
   },
   "outputs": [],
   "source": [
    "# Guardar o shapefile no objeto que chamarems de mapaUF\n",
    "mapaUF <- readShapePoly(\"estados_2010.shp\")"
   ]
  },
  {
   "cell_type": "code",
   "execution_count": 8,
   "metadata": {
    "collapsed": false
   },
   "outputs": [
    {
     "data": {
      "image/png": "[encoded data removed]"
     },
     "metadata": {},
     "output_type": "display_data"
    }
   ],
   "source": [
    "# Visualizar o mapa do Brasil com os estados\n",
    "plot (mapaUF)"
   ]
  },
  {
   "cell_type": "code",
   "execution_count": 9,
   "metadata": {
    "collapsed": false
   },
   "outputs": [],
   "source": [
    "# Dados a serem inseridos no mapa\n",
    "estados <- read.csv2(\"estados.csv\", as.is=TRUE)"
   ]
  },
  {
   "cell_type": "code",
   "execution_count": 10,
   "metadata": {
    "collapsed": false
   },
   "outputs": [
    {
     "name": "stdout",
     "output_type": "stream",
     "text": [
      "'data.frame':\t27 obs. of  2 variables:\n",
      " $ UF : chr  \"SC\" \"RS\" \"PR\" \"ES\" ...\n",
      " $ CMI: chr  \"10.46\" \"10.57\" \"10.96\" \"11.04\" ...\n"
     ]
    }
   ],
   "source": [
    "str(estados)"
   ]
  },
  {
   "cell_type": "code",
   "execution_count": 11,
   "metadata": {
    "collapsed": true
   },
   "outputs": [],
   "source": [
    "estados <- transform(estados, CMI = as.numeric(CMI))"
   ]
  },
  {
   "cell_type": "code",
   "execution_count": 12,
   "metadata": {
    "collapsed": false
   },
   "outputs": [
    {
     "name": "stdout",
     "output_type": "stream",
     "text": [
      "'data.frame':\t27 obs. of  2 variables:\n",
      " $ UF : chr  \"SC\" \"RS\" \"PR\" \"ES\" ...\n",
      " $ CMI: num  10.5 10.6 11 11 11.6 ...\n"
     ]
    }
   ],
   "source": [
    "str(estados)"
   ]
  },
  {
   "cell_type": "code",
   "execution_count": 13,
   "metadata": {
    "collapsed": false
   },
   "outputs": [],
   "source": [
    "# Transforma os dados do CMI em uma variável categórica.\n",
    "estados$CMI_cat <- cut(estados$CMI, breaks=c(0, 11, 12, 14, 16, 18, 20),\n",
    "                                    labels=c('10', '11', '12 e 13', '14 e 15', '16 e 17', '18 e 19'))"
   ]
  },
  {
   "cell_type": "code",
   "execution_count": 14,
   "metadata": {
    "collapsed": false
   },
   "outputs": [],
   "source": [
    "# Selecionamos algumas cores de uma paleta de cores do pacote RColorBrewer\n",
    "paleta_cores <- brewer.pal(9, 'OrRd')\n",
    "paleta_cores <- paleta_cores[-c(3,6,8)]"
   ]
  },
  {
   "cell_type": "code",
   "execution_count": 15,
   "metadata": {
    "collapsed": true
   },
   "outputs": [],
   "source": [
    "# Agora fazemos um pareamento entre as categorias do CMI e as cores:\n",
    "cores_categorias <- data.frame(CMI_cat=levels(estados$CMI_cat), Cores=paleta_cores)\n",
    "estados <- merge(estados, cores_categorias)"
   ]
  },
  {
   "cell_type": "code",
   "execution_count": 16,
   "metadata": {
    "collapsed": true
   },
   "outputs": [],
   "source": [
    "# Guardar .dbf num objeto do R e gravar o número de linhas para reordenar a ordem dos casos.\n",
    "mapaData <- attr(mapaUF, 'data')\n",
    "mapaData$Index <- row.names(mapaData)"
   ]
  },
  {
   "cell_type": "code",
   "execution_count": 17,
   "metadata": {
    "collapsed": true
   },
   "outputs": [],
   "source": [
    "# Mudando o nome da variável que indica a sigla dos estados\n",
    "names(mapaData)[3] <- \"UF\""
   ]
  },
  {
   "cell_type": "code",
   "execution_count": 18,
   "metadata": {
    "collapsed": true
   },
   "outputs": [],
   "source": [
    "# Fundimos então as duas tabelas:\n",
    "mapaData <- merge(mapaData, estados, by=\"UF\")"
   ]
  },
  {
   "cell_type": "code",
   "execution_count": 19,
   "metadata": {
    "collapsed": true
   },
   "outputs": [],
   "source": [
    "# Reordenamos os dados do mapa\n",
    "mapaData <- mapaData[order(as.numeric(mapaData$Index)),]"
   ]
  },
  {
   "cell_type": "code",
   "execution_count": 20,
   "metadata": {
    "collapsed": true
   },
   "outputs": [],
   "source": [
    "# Guardamos essas informações novamente como sendo um atributo do arquivo de mapa.\n",
    "attr(mapaUF, 'data') <- mapaData"
   ]
  },
  {
   "cell_type": "code",
   "execution_count": 21,
   "metadata": {
    "collapsed": false
   },
   "outputs": [],
   "source": [
    "# Configurando tela (reduzindo as margens da figura)\n",
    "#parDefault = par(no.readonly = T)\n",
    "#layout(matrix(c(1,2), nrow=2), widths= c(1,1), heights=c(4,1))\n",
    "#layout(matrix(c(1,1)))\n",
    "#par(mar=c(0,0,0,0))"
   ]
  },
  {
   "cell_type": "code",
   "execution_count": 31,
   "metadata": {
    "collapsed": false
   },
   "outputs": [
    {
     "data": {
      "image/png": "[encoded data removed]"
     },
     "metadata": {},
     "output_type": "display_data"
    },
    {
     "data": {
      "image/png": "[encoded data removed]"
     },
     "metadata": {},
     "output_type": "display_data"
    }
   ],
   "source": [
    "# Plotando mapa (Por alguma razão desconhecida está plotando dois mapas...)\n",
    "plot(mapaUF, col=as.character(mapaData$Cores))\n",
    "#plot(1,1,pch=NA, axes=F, xlab='', ylab='')\n",
    "legend(x='bottomright',\n",
    "       legend=rev(levels(estados$CMI_cat)),\n",
    "       box.lty=0,\n",
    "       fill=rev(paleta_cores),\n",
    "       cex=.8,\n",
    "       ncol=2,\n",
    "       title='Coef. de Mortalidade\\nInfantil (2013):')"
   ]
  },
  {
   "cell_type": "code",
   "execution_count": 2,
   "metadata": {
    "collapsed": false
   },
   "outputs": [
    {
     "data": {
      "text/plain": [
       "               _                           \n",
       "platform       i386-w64-mingw32            \n",
       "arch           i386                        \n",
       "os             mingw32                     \n",
       "system         i386, mingw32               \n",
       "status                                     \n",
       "major          3                           \n",
       "minor          1.1                         \n",
       "year           2014                        \n",
       "month          07                          \n",
       "day            10                          \n",
       "svn rev        66115                       \n",
       "language       R                           \n",
       "version.string R version 3.1.1 (2014-07-10)\n",
       "nickname       Sock it to Me               "
      ]
     },
     "execution_count": 2,
     "metadata": {},
     "output_type": "execute_result"
    }
   ],
   "source": [
    "R.version"
   ]
  },
  {
   "cell_type": "code",
   "execution_count": null,
   "metadata": {
    "collapsed": true
   },
   "outputs": [],
   "source": []
  }
 ],
 "metadata": {
  "kernelspec": {
   "display_name": "R",
   "language": "",
   "name": "ir"
  },
  "language_info": {
   "codemirror_mode": "r",
   "file_extension": ".r",
   "mimetype": "text/x-r-source",
   "name": "R",
   "pygments_lexer": "r",
   "version": "3.1.1"
  }
 },
 "nbformat": 4,
 "nbformat_minor": 0
}
