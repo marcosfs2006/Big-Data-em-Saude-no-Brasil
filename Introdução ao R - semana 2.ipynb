{
 "cells": [
  {
   "cell_type": "markdown",
   "metadata": {},
   "source": [
    "### EXEMPLO DE ANÁLISE APRESENTADO NA SEMANA 2\n",
    "**Marcos Ferreira da Silva**   \n",
    "\n",
    "Análise do Coeficiente de Mortalidade Infantil (CMI)  \n",
    " \n",
    "$CMI = 1000 * \\frac{óbitos de menores do que um ano}{ de nascidos vivos}$  \n",
    " \n",
    " CMI: bom indicador de saúde  \n",
    " "
   ]
  },
  {
   "cell_type": "code",
   "execution_count": 1,
   "metadata": {
    "collapsed": false
   },
   "outputs": [],
   "source": [
    "## Definição do diretório de trabalho (diretório onde o R buscará arquivos ou para onde exportará arquivos)\n",
    "setwd('F:\\\\videos_curso_big_data\\\\week_2')"
   ]
  },
  {
   "cell_type": "code",
   "execution_count": 7,
   "metadata": {
    "collapsed": false
   },
   "outputs": [],
   "source": [
    "## Importação do conjunto de dados\n",
    "Municipios <- read.csv2(\"Municipios.csv\")"
   ]
  },
  {
   "cell_type": "code",
   "execution_count": 8,
   "metadata": {
    "collapsed": false
   },
   "outputs": [
    {
     "name": "stdout",
     "output_type": "stream",
     "text": [
      "'data.frame':\t5565 obs. of  2 variables:\n",
      " $ CMI  : Factor w/ 3797 levels \"0\",\"1.149425287\",..: 1677 853 1220 1089 1826 2502 1899 2649 2088 1713 ...\n",
      " $ renda: Factor w/ 5366 levels \"1001.62\",\"1001.78\",..: 2874 4362 2739 4624 3516 3155 2479 2164 3647 2930 ...\n"
     ]
    }
   ],
   "source": [
    "## Verificar se tudo correu bem no processo de importação\n",
    "str(Municipios)"
   ]
  },
  {
   "cell_type": "markdown",
   "metadata": {},
   "source": [
    "As variáveis `CMI` e `renda` foram importados como fatores, quando deveriam ter sido importadas como números reais. A conversão pode ser feita da seguinte forma:"
   ]
  },
  {
   "cell_type": "code",
   "execution_count": 9,
   "metadata": {
    "collapsed": true
   },
   "outputs": [],
   "source": [
    "Municipios <- transform(Municipios,  CMI = as.numeric(as.character(CMI)),\n",
    "                                   renda = as.numeric(as.character(renda))) \n"
   ]
  },
  {
   "cell_type": "markdown",
   "metadata": {},
   "source": [
    "\n",
    "Vamos inspecionar agora."
   ]
  },
  {
   "cell_type": "code",
   "execution_count": 11,
   "metadata": {
    "collapsed": false
   },
   "outputs": [
    {
     "name": "stdout",
     "output_type": "stream",
     "text": [
      "'data.frame':\t5565 obs. of  2 variables:\n",
      " $ CMI  : num  16.2 13.2 14.5 14 16.8 ...\n",
      " $ renda: num  468 673 447 719 553 ...\n"
     ]
    }
   ],
   "source": [
    "str(Municipios)"
   ]
  },
  {
   "cell_type": "markdown",
   "metadata": {},
   "source": [
    "\n",
    "Aparentemente está tudo ok. Vamos agora a um resumo dos dados:"
   ]
  },
  {
   "cell_type": "code",
   "execution_count": 12,
   "metadata": {
    "collapsed": false
   },
   "outputs": [
    {
     "data": {
      "text/plain": [
       "      CMI            renda        \n",
       " Min.   : 0.00   Min.   :  95.59  \n",
       " 1st Qu.:10.67   1st Qu.: 275.03  \n",
       " Median :14.13   Median : 456.30  \n",
       " Mean   :14.64   Mean   : 483.40  \n",
       " 3rd Qu.:18.09   3rd Qu.: 636.91  \n",
       " Max.   :88.59   Max.   :2008.98  "
      ]
     },
     "execution_count": 12,
     "metadata": {},
     "output_type": "execute_result"
    }
   ],
   "source": [
    "summary(Municipios)"
   ]
  },
  {
   "cell_type": "code",
   "execution_count": 14,
   "metadata": {
    "collapsed": false
   },
   "outputs": [
    {
     "data": {
      "image/png": "[encoded data removed]"
     },
     "metadata": {},
     "output_type": "display_data"
    }
   ],
   "source": [
    "hist (Municipios$CMI, main='', xlab='CMI', col='blue')"
   ]
  },
  {
   "cell_type": "code",
   "execution_count": 21,
   "metadata": {
    "collapsed": false
   },
   "outputs": [
    {
     "data": {
      "image/png": "[encoded data removed]"
     },
     "metadata": {},
     "output_type": "display_data"
    }
   ],
   "source": [
    "#Gráfico de dispersao para a associação entre CMI e Renda\n",
    "plot (x = Municipios$renda, y = Municipios$CMI,\n",
    "      main = \"Grafico de dispersao\",\n",
    "      xlab = \"Renda\",\n",
    "      ylab = \"CMI\")\n"
   ]
  },
  {
   "cell_type": "code",
   "execution_count": 20,
   "metadata": {
    "collapsed": false
   },
   "outputs": [
    {
     "data": {
      "text/plain": []
     },
     "execution_count": 20,
     "metadata": {},
     "output_type": "execute_result"
    },
    {
     "data": {
      "image/png": "[encoded data removed]"
     },
     "metadata": {},
     "output_type": "display_data"
    }
   ],
   "source": [
    "#Gr?fico de dispersao com o ggplot2\n",
    "library(ggplot2)\n",
    "ggplot (data= Municipios, aes(x=renda, y=CMI)) + \n",
    "  geom_point(size=0.4) +\n",
    "  geom_smooth(method=\"lm\", color =\"red\", linetype=2) +\n",
    "  labs(title = \"Grafico de dispersao, Renda e CMI\", x=\"Renda\", y=\"CMI\")\n",
    "\n"
   ]
  },
  {
   "cell_type": "code",
   "execution_count": 17,
   "metadata": {
    "collapsed": true
   },
   "outputs": [],
   "source": [
    "#Criar modelo de regress?o entre CMI e Renda\n",
    "reg <- lm(CMI ~ renda, data = Municipios)"
   ]
  },
  {
   "cell_type": "code",
   "execution_count": 18,
   "metadata": {
    "collapsed": false
   },
   "outputs": [
    {
     "data": {
      "text/plain": [
       "\n",
       "Call:\n",
       "lm(formula = CMI ~ renda, data = Municipios)\n",
       "\n",
       "Residuals:\n",
       "    Min      1Q  Median      3Q     Max \n",
       "-17.139  -3.793  -0.296   3.242  72.580 \n",
       "\n",
       "Coefficients:\n",
       "             Estimate Std. Error t value Pr(>|t|)    \n",
       "(Intercept) 18.288359   0.204346    89.5   <2e-16 ***\n",
       "renda       -0.007541   0.000379   -19.9   <2e-16 ***\n",
       "---\n",
       "Signif. codes:  0 '***' 0.001 '**' 0.01 '*' 0.05 '.' 0.1 ' ' 1\n",
       "\n",
       "Residual standard error: 6.753 on 5563 degrees of freedom\n",
       "Multiple R-squared:  0.06645,\tAdjusted R-squared:  0.06628 \n",
       "F-statistic:   396 on 1 and 5563 DF,  p-value: < 2.2e-16\n"
      ]
     },
     "execution_count": 18,
     "metadata": {},
     "output_type": "execute_result"
    }
   ],
   "source": [
    "#Resumo dos resultados da regress?o\n",
    "summary(reg)"
   ]
  },
  {
   "cell_type": "code",
   "execution_count": null,
   "metadata": {
    "collapsed": true
   },
   "outputs": [],
   "source": []
  }
 ],
 "metadata": {
  "kernelspec": {
   "display_name": "R",
   "language": "",
   "name": "ir"
  },
  "language_info": {
   "codemirror_mode": "r",
   "file_extension": ".r",
   "mimetype": "text/x-r-source",
   "name": "R",
   "pygments_lexer": "r",
   "version": "3.1.1"
  }
 },
 "nbformat": 4,
 "nbformat_minor": 0
}
